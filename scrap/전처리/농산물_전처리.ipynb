{
 "cells": [
  {
   "cell_type": "code",
   "execution_count": 1,
   "metadata": {
    "id": "NPEQrQqSk-XA"
   },
   "outputs": [],
   "source": [
    "import pandas as pd\n",
    "import numpy as np\n",
    "import glob, os"
   ]
  },
  {
   "cell_type": "markdown",
   "metadata": {
    "id": "_XtDpHeblen9"
   },
   "source": [
    "## 무 전처리"
   ]
  },
  {
   "cell_type": "code",
   "execution_count": 5,
   "metadata": {
    "colab": {
     "base_uri": "https://localhost:8080/",
     "height": 206
    },
    "id": "RNvNWcE_lOue",
    "outputId": "42e7781f-3379-4573-cfca-9739ca60de5a"
   },
   "outputs": [
    {
     "data": {
      "text/html": [
       "<div>\n",
       "<style scoped>\n",
       "    .dataframe tbody tr th:only-of-type {\n",
       "        vertical-align: middle;\n",
       "    }\n",
       "\n",
       "    .dataframe tbody tr th {\n",
       "        vertical-align: top;\n",
       "    }\n",
       "\n",
       "    .dataframe thead th {\n",
       "        text-align: right;\n",
       "    }\n",
       "</style>\n",
       "<table border=\"1\" class=\"dataframe\">\n",
       "  <thead>\n",
       "    <tr style=\"text-align: right;\">\n",
       "      <th></th>\n",
       "      <th>일자</th>\n",
       "      <th>도매시장</th>\n",
       "      <th>법인</th>\n",
       "      <th>부류</th>\n",
       "      <th>품목</th>\n",
       "      <th>출하지</th>\n",
       "      <th>물량(kg)</th>\n",
       "      <th>금액(원)</th>\n",
       "    </tr>\n",
       "  </thead>\n",
       "  <tbody>\n",
       "    <tr>\n",
       "      <th>0</th>\n",
       "      <td>20210427</td>\n",
       "      <td>서울가락</td>\n",
       "      <td>동화청과(주)</td>\n",
       "      <td>엽경채류</td>\n",
       "      <td>미나리</td>\n",
       "      <td>경기도 안산시</td>\n",
       "      <td>1444.0</td>\n",
       "      <td>2981700</td>\n",
       "    </tr>\n",
       "    <tr>\n",
       "      <th>1</th>\n",
       "      <td>20210427</td>\n",
       "      <td>서울가락</td>\n",
       "      <td>동화청과(주)</td>\n",
       "      <td>엽경채류</td>\n",
       "      <td>미나리</td>\n",
       "      <td>경기도 시흥시</td>\n",
       "      <td>6448.0</td>\n",
       "      <td>12769100</td>\n",
       "    </tr>\n",
       "    <tr>\n",
       "      <th>2</th>\n",
       "      <td>20210424</td>\n",
       "      <td>서울가락</td>\n",
       "      <td>(주)중앙청과</td>\n",
       "      <td>엽경채류</td>\n",
       "      <td>미나리</td>\n",
       "      <td>경기도 시흥시</td>\n",
       "      <td>5456.0</td>\n",
       "      <td>10322700</td>\n",
       "    </tr>\n",
       "    <tr>\n",
       "      <th>3</th>\n",
       "      <td>20210426</td>\n",
       "      <td>서울가락</td>\n",
       "      <td>동화청과(주)</td>\n",
       "      <td>엽경채류</td>\n",
       "      <td>미나리</td>\n",
       "      <td>경기도 이천시</td>\n",
       "      <td>768.0</td>\n",
       "      <td>1569400</td>\n",
       "    </tr>\n",
       "    <tr>\n",
       "      <th>4</th>\n",
       "      <td>20210426</td>\n",
       "      <td>서울가락</td>\n",
       "      <td>동화청과(주)</td>\n",
       "      <td>엽경채류</td>\n",
       "      <td>미나리</td>\n",
       "      <td>전라남도 나주시</td>\n",
       "      <td>2372.0</td>\n",
       "      <td>3762000</td>\n",
       "    </tr>\n",
       "  </tbody>\n",
       "</table>\n",
       "</div>"
      ],
      "text/plain": [
       "         일자  도매시장       법인    부류   품목       출하지  물량(kg)     금액(원)\n",
       "0  20210427  서울가락  동화청과(주)  엽경채류  미나리   경기도 안산시  1444.0   2981700\n",
       "1  20210427  서울가락  동화청과(주)  엽경채류  미나리   경기도 시흥시  6448.0  12769100\n",
       "2  20210424  서울가락  (주)중앙청과  엽경채류  미나리   경기도 시흥시  5456.0  10322700\n",
       "3  20210426  서울가락  동화청과(주)  엽경채류  미나리   경기도 이천시   768.0   1569400\n",
       "4  20210426  서울가락  동화청과(주)  엽경채류  미나리  전라남도 나주시  2372.0   3762000"
      ]
     },
     "execution_count": 5,
     "metadata": {},
     "output_type": "execute_result"
    }
   ],
   "source": [
    "path = '../../files/도매시장/미나리.xlsx'\n",
    "\n",
    "minari =  pd.read_excel(path)\n",
    "minari.head()"
   ]
  },
  {
   "cell_type": "code",
   "execution_count": 6,
   "metadata": {
    "colab": {
     "base_uri": "https://localhost:8080/"
    },
    "id": "v_OqEV4alrNC",
    "outputId": "866ae3e4-07bb-4ea8-de41-5646778f8329"
   },
   "outputs": [
    {
     "name": "stdout",
     "output_type": "stream",
     "text": [
      "<class 'pandas.core.frame.DataFrame'>\n",
      "RangeIndex: 141515 entries, 0 to 141514\n",
      "Data columns (total 8 columns):\n",
      " #   Column  Non-Null Count   Dtype  \n",
      "---  ------  --------------   -----  \n",
      " 0   일자      141515 non-null  int64  \n",
      " 1   도매시장    141515 non-null  object \n",
      " 2   법인      141515 non-null  object \n",
      " 3   부류      141515 non-null  object \n",
      " 4   품목      141515 non-null  object \n",
      " 5   출하지     141515 non-null  object \n",
      " 6   물량(kg)  141515 non-null  float64\n",
      " 7   금액(원)   141515 non-null  int64  \n",
      "dtypes: float64(1), int64(2), object(5)\n",
      "memory usage: 8.6+ MB\n"
     ]
    }
   ],
   "source": [
    "minari.info()"
   ]
  },
  {
   "cell_type": "code",
   "execution_count": 7,
   "metadata": {
    "colab": {
     "base_uri": "https://localhost:8080/"
    },
    "id": "Bb4wM6rnnLEc",
    "outputId": "359a2a1b-a86b-40f7-ca6d-e10321864d87"
   },
   "outputs": [
    {
     "data": {
      "text/plain": [
       "일자        0\n",
       "도매시장      0\n",
       "법인        0\n",
       "부류        0\n",
       "품목        0\n",
       "출하지       0\n",
       "물량(kg)    0\n",
       "금액(원)     0\n",
       "dtype: int64"
      ]
     },
     "execution_count": 7,
     "metadata": {},
     "output_type": "execute_result"
    }
   ],
   "source": [
    "minari.isna().sum()"
   ]
  },
  {
   "cell_type": "code",
   "execution_count": 10,
   "metadata": {
    "colab": {
     "base_uri": "https://localhost:8080/",
     "height": 206
    },
    "id": "q2LHSj6am1OK",
    "outputId": "98464f69-78f9-4f08-9e3a-49f4b2ccb110"
   },
   "outputs": [
    {
     "data": {
      "text/html": [
       "<div>\n",
       "<style scoped>\n",
       "    .dataframe tbody tr th:only-of-type {\n",
       "        vertical-align: middle;\n",
       "    }\n",
       "\n",
       "    .dataframe tbody tr th {\n",
       "        vertical-align: top;\n",
       "    }\n",
       "\n",
       "    .dataframe thead th {\n",
       "        text-align: right;\n",
       "    }\n",
       "</style>\n",
       "<table border=\"1\" class=\"dataframe\">\n",
       "  <thead>\n",
       "    <tr style=\"text-align: right;\">\n",
       "      <th></th>\n",
       "      <th>일자</th>\n",
       "      <th>도매시장</th>\n",
       "      <th>부류</th>\n",
       "      <th>품목</th>\n",
       "      <th>출하지</th>\n",
       "      <th>물량(kg)</th>\n",
       "      <th>금액(원)</th>\n",
       "    </tr>\n",
       "  </thead>\n",
       "  <tbody>\n",
       "    <tr>\n",
       "      <th>71636</th>\n",
       "      <td>2019-01-02</td>\n",
       "      <td>광주서부</td>\n",
       "      <td>엽경채류</td>\n",
       "      <td>미나리</td>\n",
       "      <td>광주광역시 광산구</td>\n",
       "      <td>60.0</td>\n",
       "      <td>363000</td>\n",
       "    </tr>\n",
       "    <tr>\n",
       "      <th>139860</th>\n",
       "      <td>2019-01-02</td>\n",
       "      <td>춘천</td>\n",
       "      <td>엽경채류</td>\n",
       "      <td>미나리</td>\n",
       "      <td>서울특별시</td>\n",
       "      <td>44.0</td>\n",
       "      <td>254960</td>\n",
       "    </tr>\n",
       "    <tr>\n",
       "      <th>111429</th>\n",
       "      <td>2019-01-02</td>\n",
       "      <td>창원팔용</td>\n",
       "      <td>엽경채류</td>\n",
       "      <td>미나리</td>\n",
       "      <td>경상남도 창원시 의창(성산)구</td>\n",
       "      <td>4.0</td>\n",
       "      <td>22000</td>\n",
       "    </tr>\n",
       "    <tr>\n",
       "      <th>78849</th>\n",
       "      <td>2019-01-02</td>\n",
       "      <td>전주</td>\n",
       "      <td>엽경채류</td>\n",
       "      <td>미나리</td>\n",
       "      <td>-</td>\n",
       "      <td>850.0</td>\n",
       "      <td>1274000</td>\n",
       "    </tr>\n",
       "    <tr>\n",
       "      <th>78946</th>\n",
       "      <td>2019-01-02</td>\n",
       "      <td>전주</td>\n",
       "      <td>엽경채류</td>\n",
       "      <td>미나리</td>\n",
       "      <td>-</td>\n",
       "      <td>3168.0</td>\n",
       "      <td>6028900</td>\n",
       "    </tr>\n",
       "  </tbody>\n",
       "</table>\n",
       "</div>"
      ],
      "text/plain": [
       "               일자  도매시장    부류   품목               출하지  물량(kg)    금액(원)\n",
       "71636  2019-01-02  광주서부  엽경채류  미나리         광주광역시 광산구    60.0   363000\n",
       "139860 2019-01-02    춘천  엽경채류  미나리             서울특별시    44.0   254960\n",
       "111429 2019-01-02  창원팔용  엽경채류  미나리  경상남도 창원시 의창(성산)구     4.0    22000\n",
       "78849  2019-01-02    전주  엽경채류  미나리                 -   850.0  1274000\n",
       "78946  2019-01-02    전주  엽경채류  미나리                 -  3168.0  6028900"
      ]
     },
     "execution_count": 10,
     "metadata": {},
     "output_type": "execute_result"
    }
   ],
   "source": [
    "#법인 버리기\n",
    "#minari.drop(['법인'], axis=1, inplace=True)\n",
    "\n",
    "#날짜 바꾸기\n",
    "minari['일자'] = pd.to_datetime(minari['일자'], format='%Y%m%d')\n",
    "#일자 소팅\n",
    "minari = minari.sort_values(by='일자')\n",
    "minari.head()"
   ]
  },
  {
   "cell_type": "code",
   "execution_count": 11,
   "metadata": {
    "colab": {
     "base_uri": "https://localhost:8080/"
    },
    "id": "vRfV9DyTD2fN",
    "outputId": "0170c7c3-b89e-436c-8db8-60921f38b226"
   },
   "outputs": [
    {
     "name": "stdout",
     "output_type": "stream",
     "text": [
      "20.0      3978\n",
      "40.0      3551\n",
      "120.0     2846\n",
      "80.0      2844\n",
      "60.0      2797\n",
      "          ... \n",
      "362.4        1\n",
      "11.9         1\n",
      "1853.0       1\n",
      "6142.5       1\n",
      "1013.2       1\n",
      "Name: 물량(kg), Length: 6688, dtype: int64\n",
      "120000     793\n",
      "60000      737\n",
      "300000     632\n",
      "90000      554\n",
      "240000     552\n",
      "          ... \n",
      "57050        1\n",
      "4591700      1\n",
      "131158       1\n",
      "7859900      1\n",
      "40940        1\n",
      "Name: 금액(원), Length: 40869, dtype: int64\n"
     ]
    }
   ],
   "source": [
    "#도수분포?\n",
    "print(minari['물량(kg)'].value_counts())\n",
    "print(minari['금액(원)'].value_counts())"
   ]
  },
  {
   "cell_type": "code",
   "execution_count": 22,
   "metadata": {},
   "outputs": [
    {
     "data": {
      "text/plain": [
       "141470"
      ]
     },
     "execution_count": 22,
     "metadata": {},
     "output_type": "execute_result"
    }
   ],
   "source": [
    "len(minari)"
   ]
  },
  {
   "cell_type": "code",
   "execution_count": 20,
   "metadata": {},
   "outputs": [
    {
     "data": {
      "text/plain": [
       "141470"
      ]
     },
     "execution_count": 20,
     "metadata": {},
     "output_type": "execute_result"
    }
   ],
   "source": [
    "np.sum((minari['물량(kg)'] != 0) & (minari['금액(원)'] != 0))"
   ]
  },
  {
   "cell_type": "code",
   "execution_count": 13,
   "metadata": {
    "id": "mRaP81Azmw2m"
   },
   "outputs": [],
   "source": [
    "data_filter = (minari['물량(kg)'] != 0) & (minari['금액(원)'] != 0)\n",
    "#약 45개 버림.#0값 찾기\n",
    "\n",
    "minari = minari.loc[data_filter]"
   ]
  },
  {
   "cell_type": "code",
   "execution_count": 23,
   "metadata": {
    "colab": {
     "base_uri": "https://localhost:8080/"
    },
    "id": "cZEWwh38zLr0",
    "outputId": "421d0c24-d2f8-4f05-e239-7531c71e6ba5"
   },
   "outputs": [
    {
     "data": {
      "text/plain": [
       "array(['광주광역시', '서울특별시', '경상남도', '-', '전라북도', '울산', '광주', '전라남도', '경상북도',\n",
       "       '경기도', '부산광역시', '강원도', '부산', '충청북도', '서울', '충청남도', '인천광역시',\n",
       "       '울산광역시', '대구광역시', '대전광역시', '인천', '대전', '대구', '세종시', '제주도', '수입산'],\n",
       "      dtype=object)"
      ]
     },
     "execution_count": 23,
     "metadata": {},
     "output_type": "execute_result"
    }
   ],
   "source": [
    "minari['출하지'] = minari['출하지'].str.split(\" \").str[0]\n",
    "minari['출하지'].unique()     # 수입산, 원양산, - : 제거 "
   ]
  },
  {
   "cell_type": "code",
   "execution_count": 35,
   "metadata": {
    "colab": {
     "base_uri": "https://localhost:8080/"
    },
    "id": "nEy_SNpSzLyE",
    "outputId": "d5ac1f76-9d6a-4436-9f33-82ea03816686"
   },
   "outputs": [
    {
     "name": "stdout",
     "output_type": "stream",
     "text": [
      "['광주광역시' '서울특별시' '경상남도' '전라북도' '울산광역시' '전라남도' '경상북도' '경기도' '부산광역시' '강원도'\n",
      " '충청북도' '충청남도' '인천광역시' '대구광역시' '대전광역시' '세종시' '제주도']\n",
      "17\n"
     ]
    }
   ],
   "source": [
    "minari['출하지'].replace(['수입산', '원양산', '-', '서울', '인천', '부산', '울산', '광주', '대전','대구'],\n",
    "                      [np.nan, np.nan, np.nan, '서울특별시', '인천광역시', '부산광역시', '울산광역시', '광주광역시', '대전광역시','대구광역시'],\n",
    "                      inplace=True)\n",
    "minari = minari.dropna(subset=['출하지'])\n",
    "print(minari['출하지'].unique())\n",
    "print(len(minari['출하지'].unique()))"
   ]
  },
  {
   "cell_type": "code",
   "execution_count": 36,
   "metadata": {
    "id": "Fv0KuOQHzL-G"
   },
   "outputs": [
    {
     "name": "stderr",
     "output_type": "stream",
     "text": [
      "<ipython-input-36-c310e27a887c>:1: SettingWithCopyWarning: \n",
      "A value is trying to be set on a copy of a slice from a DataFrame.\n",
      "Try using .loc[row_indexer,col_indexer] = value instead\n",
      "\n",
      "See the caveats in the documentation: https://pandas.pydata.org/pandas-docs/stable/user_guide/indexing.html#returning-a-view-versus-a-copy\n",
      "  minari['kg당 금액'] = 0\n",
      "<ipython-input-36-c310e27a887c>:2: SettingWithCopyWarning: \n",
      "A value is trying to be set on a copy of a slice from a DataFrame.\n",
      "Try using .loc[row_indexer,col_indexer] = value instead\n",
      "\n",
      "See the caveats in the documentation: https://pandas.pydata.org/pandas-docs/stable/user_guide/indexing.html#returning-a-view-versus-a-copy\n",
      "  minari['kg당 금액'] = minari['금액(원)']/minari['물량(kg)']\n"
     ]
    }
   ],
   "source": [
    "minari['kg당 금액'] = 0\n",
    "minari['kg당 금액'] = minari['금액(원)']/minari['물량(kg)']"
   ]
  },
  {
   "cell_type": "code",
   "execution_count": 38,
   "metadata": {
    "colab": {
     "base_uri": "https://localhost:8080/",
     "height": 423
    },
    "id": "U03o0kMi63hH",
    "outputId": "dba4df30-dac9-4351-a4f9-91390e1e8bc1"
   },
   "outputs": [
    {
     "data": {
      "text/html": [
       "<div>\n",
       "<style scoped>\n",
       "    .dataframe tbody tr th:only-of-type {\n",
       "        vertical-align: middle;\n",
       "    }\n",
       "\n",
       "    .dataframe tbody tr th {\n",
       "        vertical-align: top;\n",
       "    }\n",
       "\n",
       "    .dataframe thead th {\n",
       "        text-align: right;\n",
       "    }\n",
       "</style>\n",
       "<table border=\"1\" class=\"dataframe\">\n",
       "  <thead>\n",
       "    <tr style=\"text-align: right;\">\n",
       "      <th></th>\n",
       "      <th>일자</th>\n",
       "      <th>도매시장</th>\n",
       "      <th>부류</th>\n",
       "      <th>품목</th>\n",
       "      <th>출하지</th>\n",
       "      <th>물량(kg)</th>\n",
       "      <th>금액(원)</th>\n",
       "      <th>kg당 금액</th>\n",
       "    </tr>\n",
       "  </thead>\n",
       "  <tbody>\n",
       "    <tr>\n",
       "      <th>71636</th>\n",
       "      <td>2019-01-02</td>\n",
       "      <td>광주서부</td>\n",
       "      <td>엽경채류</td>\n",
       "      <td>미나리</td>\n",
       "      <td>광주광역시</td>\n",
       "      <td>60.0</td>\n",
       "      <td>363000</td>\n",
       "      <td>6050.000000</td>\n",
       "    </tr>\n",
       "    <tr>\n",
       "      <th>139860</th>\n",
       "      <td>2019-01-02</td>\n",
       "      <td>춘천</td>\n",
       "      <td>엽경채류</td>\n",
       "      <td>미나리</td>\n",
       "      <td>서울특별시</td>\n",
       "      <td>44.0</td>\n",
       "      <td>254960</td>\n",
       "      <td>5794.545455</td>\n",
       "    </tr>\n",
       "    <tr>\n",
       "      <th>111429</th>\n",
       "      <td>2019-01-02</td>\n",
       "      <td>창원팔용</td>\n",
       "      <td>엽경채류</td>\n",
       "      <td>미나리</td>\n",
       "      <td>경상남도</td>\n",
       "      <td>4.0</td>\n",
       "      <td>22000</td>\n",
       "      <td>5500.000000</td>\n",
       "    </tr>\n",
       "    <tr>\n",
       "      <th>76662</th>\n",
       "      <td>2019-01-02</td>\n",
       "      <td>익산</td>\n",
       "      <td>엽경채류</td>\n",
       "      <td>미나리</td>\n",
       "      <td>전라북도</td>\n",
       "      <td>988.0</td>\n",
       "      <td>1886000</td>\n",
       "      <td>1908.906883</td>\n",
       "    </tr>\n",
       "    <tr>\n",
       "      <th>76043</th>\n",
       "      <td>2019-01-02</td>\n",
       "      <td>익산</td>\n",
       "      <td>엽경채류</td>\n",
       "      <td>미나리</td>\n",
       "      <td>전라북도</td>\n",
       "      <td>280.0</td>\n",
       "      <td>515000</td>\n",
       "      <td>1839.285714</td>\n",
       "    </tr>\n",
       "    <tr>\n",
       "      <th>...</th>\n",
       "      <td>...</td>\n",
       "      <td>...</td>\n",
       "      <td>...</td>\n",
       "      <td>...</td>\n",
       "      <td>...</td>\n",
       "      <td>...</td>\n",
       "      <td>...</td>\n",
       "      <td>...</td>\n",
       "    </tr>\n",
       "    <tr>\n",
       "      <th>109633</th>\n",
       "      <td>2021-10-02</td>\n",
       "      <td>대구북부</td>\n",
       "      <td>엽경채류</td>\n",
       "      <td>미나리</td>\n",
       "      <td>경상북도</td>\n",
       "      <td>23.0</td>\n",
       "      <td>59800</td>\n",
       "      <td>2600.000000</td>\n",
       "    </tr>\n",
       "    <tr>\n",
       "      <th>140384</th>\n",
       "      <td>2021-10-02</td>\n",
       "      <td>춘천</td>\n",
       "      <td>엽경채류</td>\n",
       "      <td>미나리</td>\n",
       "      <td>서울특별시</td>\n",
       "      <td>6.0</td>\n",
       "      <td>38040</td>\n",
       "      <td>6340.000000</td>\n",
       "    </tr>\n",
       "    <tr>\n",
       "      <th>109630</th>\n",
       "      <td>2021-10-02</td>\n",
       "      <td>대구북부</td>\n",
       "      <td>엽경채류</td>\n",
       "      <td>미나리</td>\n",
       "      <td>경상북도</td>\n",
       "      <td>20.0</td>\n",
       "      <td>100000</td>\n",
       "      <td>5000.000000</td>\n",
       "    </tr>\n",
       "    <tr>\n",
       "      <th>28011</th>\n",
       "      <td>2021-10-02</td>\n",
       "      <td>서울가락</td>\n",
       "      <td>엽경채류</td>\n",
       "      <td>미나리</td>\n",
       "      <td>경기도</td>\n",
       "      <td>247.5</td>\n",
       "      <td>945000</td>\n",
       "      <td>3818.181818</td>\n",
       "    </tr>\n",
       "    <tr>\n",
       "      <th>36609</th>\n",
       "      <td>2021-10-02</td>\n",
       "      <td>안양</td>\n",
       "      <td>엽경채류</td>\n",
       "      <td>미나리</td>\n",
       "      <td>서울특별시</td>\n",
       "      <td>140.0</td>\n",
       "      <td>287700</td>\n",
       "      <td>2055.000000</td>\n",
       "    </tr>\n",
       "  </tbody>\n",
       "</table>\n",
       "<p>133885 rows × 8 columns</p>\n",
       "</div>"
      ],
      "text/plain": [
       "               일자  도매시장    부류   품목    출하지  물량(kg)    금액(원)       kg당 금액\n",
       "71636  2019-01-02  광주서부  엽경채류  미나리  광주광역시    60.0   363000  6050.000000\n",
       "139860 2019-01-02    춘천  엽경채류  미나리  서울특별시    44.0   254960  5794.545455\n",
       "111429 2019-01-02  창원팔용  엽경채류  미나리   경상남도     4.0    22000  5500.000000\n",
       "76662  2019-01-02    익산  엽경채류  미나리   전라북도   988.0  1886000  1908.906883\n",
       "76043  2019-01-02    익산  엽경채류  미나리   전라북도   280.0   515000  1839.285714\n",
       "...           ...   ...   ...  ...    ...     ...      ...          ...\n",
       "109633 2021-10-02  대구북부  엽경채류  미나리   경상북도    23.0    59800  2600.000000\n",
       "140384 2021-10-02    춘천  엽경채류  미나리  서울특별시     6.0    38040  6340.000000\n",
       "109630 2021-10-02  대구북부  엽경채류  미나리   경상북도    20.0   100000  5000.000000\n",
       "28011  2021-10-02  서울가락  엽경채류  미나리    경기도   247.5   945000  3818.181818\n",
       "36609  2021-10-02    안양  엽경채류  미나리  서울특별시   140.0   287700  2055.000000\n",
       "\n",
       "[133885 rows x 8 columns]"
      ]
     },
     "execution_count": 38,
     "metadata": {},
     "output_type": "execute_result"
    }
   ],
   "source": [
    "minari"
   ]
  },
  {
   "cell_type": "code",
   "execution_count": 44,
   "metadata": {
    "colab": {
     "base_uri": "https://localhost:8080/",
     "height": 614
    },
    "id": "iDXE8kRc9I4N",
    "outputId": "2a6b4945-36f9-448a-b409-15c45509c56f"
   },
   "outputs": [
    {
     "data": {
      "text/html": [
       "<div>\n",
       "<style scoped>\n",
       "    .dataframe tbody tr th:only-of-type {\n",
       "        vertical-align: middle;\n",
       "    }\n",
       "\n",
       "    .dataframe tbody tr th {\n",
       "        vertical-align: top;\n",
       "    }\n",
       "\n",
       "    .dataframe thead th {\n",
       "        text-align: right;\n",
       "    }\n",
       "</style>\n",
       "<table border=\"1\" class=\"dataframe\">\n",
       "  <thead>\n",
       "    <tr style=\"text-align: right;\">\n",
       "      <th></th>\n",
       "      <th>kg당 금액</th>\n",
       "    </tr>\n",
       "    <tr>\n",
       "      <th>출하지</th>\n",
       "      <th></th>\n",
       "    </tr>\n",
       "  </thead>\n",
       "  <tbody>\n",
       "    <tr>\n",
       "      <th>강원도</th>\n",
       "      <td>3172.0</td>\n",
       "    </tr>\n",
       "    <tr>\n",
       "      <th>경기도</th>\n",
       "      <td>2854.0</td>\n",
       "    </tr>\n",
       "    <tr>\n",
       "      <th>경상남도</th>\n",
       "      <td>3345.0</td>\n",
       "    </tr>\n",
       "    <tr>\n",
       "      <th>경상북도</th>\n",
       "      <td>5577.0</td>\n",
       "    </tr>\n",
       "    <tr>\n",
       "      <th>광주광역시</th>\n",
       "      <td>2780.0</td>\n",
       "    </tr>\n",
       "    <tr>\n",
       "      <th>대구광역시</th>\n",
       "      <td>5886.0</td>\n",
       "    </tr>\n",
       "    <tr>\n",
       "      <th>대전광역시</th>\n",
       "      <td>2632.0</td>\n",
       "    </tr>\n",
       "    <tr>\n",
       "      <th>부산광역시</th>\n",
       "      <td>2887.0</td>\n",
       "    </tr>\n",
       "    <tr>\n",
       "      <th>서울특별시</th>\n",
       "      <td>3853.0</td>\n",
       "    </tr>\n",
       "    <tr>\n",
       "      <th>세종시</th>\n",
       "      <td>538.0</td>\n",
       "    </tr>\n",
       "    <tr>\n",
       "      <th>울산광역시</th>\n",
       "      <td>2724.0</td>\n",
       "    </tr>\n",
       "    <tr>\n",
       "      <th>인천광역시</th>\n",
       "      <td>2755.0</td>\n",
       "    </tr>\n",
       "    <tr>\n",
       "      <th>전라남도</th>\n",
       "      <td>2858.0</td>\n",
       "    </tr>\n",
       "    <tr>\n",
       "      <th>전라북도</th>\n",
       "      <td>3491.0</td>\n",
       "    </tr>\n",
       "    <tr>\n",
       "      <th>제주도</th>\n",
       "      <td>3801.0</td>\n",
       "    </tr>\n",
       "    <tr>\n",
       "      <th>충청남도</th>\n",
       "      <td>3000.0</td>\n",
       "    </tr>\n",
       "    <tr>\n",
       "      <th>충청북도</th>\n",
       "      <td>2602.0</td>\n",
       "    </tr>\n",
       "  </tbody>\n",
       "</table>\n",
       "</div>"
      ],
      "text/plain": [
       "       kg당 금액\n",
       "출하지          \n",
       "강원도    3172.0\n",
       "경기도    2854.0\n",
       "경상남도   3345.0\n",
       "경상북도   5577.0\n",
       "광주광역시  2780.0\n",
       "대구광역시  5886.0\n",
       "대전광역시  2632.0\n",
       "부산광역시  2887.0\n",
       "서울특별시  3853.0\n",
       "세종시     538.0\n",
       "울산광역시  2724.0\n",
       "인천광역시  2755.0\n",
       "전라남도   2858.0\n",
       "전라북도   3491.0\n",
       "제주도    3801.0\n",
       "충청남도   3000.0\n",
       "충청북도   2602.0"
      ]
     },
     "execution_count": 44,
     "metadata": {},
     "output_type": "execute_result"
    }
   ],
   "source": [
    "minari_mean = pd.DataFrame(minari.iloc[:, 7].groupby(minari['출하지']).agg('mean'))\n",
    "minari_mean['kg당 금액'] = round(minari_mean['kg당 금액'], 0)\n",
    "minari_mean"
   ]
  },
  {
   "cell_type": "code",
   "execution_count": 55,
   "metadata": {},
   "outputs": [
    {
     "name": "stderr",
     "output_type": "stream",
     "text": [
      "<ipython-input-55-6f3d26a2a257>:2: SettingWithCopyWarning: \n",
      "A value is trying to be set on a copy of a slice from a DataFrame.\n",
      "Try using .loc[row_indexer,col_indexer] = value instead\n",
      "\n",
      "See the caveats in the documentation: https://pandas.pydata.org/pandas-docs/stable/user_guide/indexing.html#returning-a-view-versus-a-copy\n",
      "  minari['kg당 금액']=round(minari['kg당 금액'], 0)\n"
     ]
    }
   ],
   "source": [
    "#반올림 적용\n",
    "minari['kg당 금액']=round(minari['kg당 금액'], 0)"
   ]
  },
  {
   "cell_type": "code",
   "execution_count": 48,
   "metadata": {
    "scrolled": true
   },
   "outputs": [
    {
     "name": "stderr",
     "output_type": "stream",
     "text": [
      "<ipython-input-48-d38adb52f241>:1: SettingWithCopyWarning: \n",
      "A value is trying to be set on a copy of a slice from a DataFrame.\n",
      "Try using .loc[row_indexer,col_indexer] = value instead\n",
      "\n",
      "See the caveats in the documentation: https://pandas.pydata.org/pandas-docs/stable/user_guide/indexing.html#returning-a-view-versus-a-copy\n",
      "  minari['일자']=minari['일자'].dt.strftime('%Y-%m-%d')\n"
     ]
    }
   ],
   "source": [
    "minari['일자']=minari['일자'].dt.strftime('%Y-%m-%d')\n",
    "#뒤에 시간이 붙길래 적용함."
   ]
  },
  {
   "cell_type": "code",
   "execution_count": 57,
   "metadata": {},
   "outputs": [],
   "source": [
    "minari.to_csv(\"../../files/전처리/미나리.csv\",index=False,encoding='utf-8-sig')"
   ]
  }
 ],
 "metadata": {
  "colab": {
   "collapsed_sections": [],
   "name": "농산물 전처리.ipynb",
   "provenance": []
  },
  "kernelspec": {
   "display_name": "Python 3 (ipykernel)",
   "language": "python",
   "name": "python3"
  },
  "language_info": {
   "codemirror_mode": {
    "name": "ipython",
    "version": 3
   },
   "file_extension": ".py",
   "mimetype": "text/x-python",
   "name": "python",
   "nbconvert_exporter": "python",
   "pygments_lexer": "ipython3",
   "version": "3.8.8"
  }
 },
 "nbformat": 4,
 "nbformat_minor": 1
}
